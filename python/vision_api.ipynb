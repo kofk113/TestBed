{
 "cells": [
  {
   "cell_type": "code",
   "execution_count": 1,
   "metadata": {},
   "outputs": [
    {
     "name": "stdout",
     "output_type": "stream",
     "text": [
      "{\"requestId\": \"120b618b-c352-489c-9781-d9754d225514\", \"categories\": [{\"score\": 0.83984375, \"detail\": {\"celebrities\": []}, \"name\": \"people_group\"}], \"metadata\": {\"format\": \"Jpeg\", \"height\": 730, \"width\": 730}, \"description\": {\"tags\": [\"person\", \"posing\", \"man\", \"people\", \"standing\", \"group\", \"window\", \"photo\", \"holding\", \"boy\", \"smiling\", \"child\", \"woman\", \"young\", \"couple\", \"shirt\", \"food\", \"friends\", \"table\", \"cake\", \"kitchen\"], \"captions\": [{\"confidence\": 0.9857430217617891, \"text\": \"a group of people posing for the camera\"}]}, \"objects\": [{\"confidence\": 0.771, \"object\": \"person\", \"rectangle\": {\"w\": 248, \"h\": 574, \"y\": 11, \"x\": 478}}, {\"confidence\": 0.861, \"object\": \"person\", \"rectangle\": {\"w\": 355, \"h\": 671, \"y\": 59, \"x\": 7}}, {\"confidence\": 0.939, \"object\": \"person\", \"rectangle\": {\"w\": 579, \"h\": 546, \"y\": 182, \"x\": 151}}], \"faces\": [{\"age\": 35, \"gender\": \"Male\", \"faceRectangle\": {\"left\": 315, \"width\": 197, \"height\": 197, \"top\": 266}}, {\"age\": 33, \"gender\": \"Male\", \"faceRectangle\": {\"left\": 86, \"width\": 179, \"height\": 179, \"top\": 159}}, {\"age\": 27, \"gender\": \"Male\", \"faceRectangle\": {\"left\": 550, \"width\": 163, \"height\": 163, \"top\": 100}}]}\n"
     ]
    }
   ],
   "source": [
    "import requests\n",
    "import matplotlib.pyplot as plt\n",
    "from PIL import Image\n",
    "from io import BytesIO\n",
    "import json\n",
    "subkey=\"868cdc2741684ce08b7d11494f653949\"\n",
    "assert subkey\n",
    "visionurl=\"https://kkk78.cognitiveservices.azure.com/\"\n",
    "analurl=visionurl+\"vision/v3.0/analyze\"\n",
    "image_url= \"https://www.topstarnews.net/news/photo/201910/685209_394352_146.jpg\"\n",
    "image=Image.open(BytesIO(requests.get(image_url).content))\n",
    "\n",
    "headers = {'Ocp-Apim-Subscription-Key': subkey}\n",
    "params = {'visualFeatures': 'Categories,Description,Faces,Objects'}\n",
    "data = {'url': image_url}\n",
    "response = requests.post(analurl, headers=headers, params=params, json=data)\n",
    "response.raise_for_status()\n",
    "analysis=response.json()\n",
    "print(json.dumps(response.json()))"
   ]
  },
  {
   "cell_type": "code",
   "execution_count": null,
   "metadata": {},
   "outputs": [],
   "source": []
  }
 ],
 "metadata": {
  "kernelspec": {
   "display_name": "Python 3",
   "language": "python",
   "name": "python3"
  },
  "language_info": {
   "codemirror_mode": {
    "name": "ipython",
    "version": 3
   },
   "file_extension": ".py",
   "mimetype": "text/x-python",
   "name": "python",
   "nbconvert_exporter": "python",
   "pygments_lexer": "ipython3",
   "version": "3.7.6"
  }
 },
 "nbformat": 4,
 "nbformat_minor": 2
}
